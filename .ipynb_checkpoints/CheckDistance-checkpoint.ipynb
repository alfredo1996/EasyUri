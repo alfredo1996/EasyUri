{
  "nbformat": 4,
  "nbformat_minor": 5,
  "metadata": {
    "kernelspec": {
      "display_name": "Python [conda env:root] *",
      "language": "python",
      "name": "conda-root-py"
    },
    "language_info": {
      "codemirror_mode": {
        "name": "ipython",
        "version": 3
      },
      "file_extension": ".py",
      "mimetype": "text/x-python",
      "name": "python",
      "nbconvert_exporter": "python",
      "pygments_lexer": "ipython3",
      "version": "3.7.1"
    },
    "colab": {
      "name": "CheckDistance-checkpoint.ipynb",
      "provenance": [],
      "toc_visible": true
    }
  },
  "cells": [
    {
      "cell_type": "code",
      "metadata": {
        "id": "critical-representation"
      },
      "source": [
        "import pandas as pd\n",
        "import json\n",
        "from pprint import pprint\n",
        "import numpy as np"
      ],
      "id": "critical-representation",
      "execution_count": 1,
      "outputs": []
    },
    {
      "cell_type": "code",
      "metadata": {
        "id": "0QiD5N8QZKR-"
      },
      "source": [
        "#path = \"C:/Users/User Pc/Desktop/Progetto OpenCV/All notebooks/Valori tester.json\"\n",
        "path = \"/content/dict.json\""
      ],
      "id": "0QiD5N8QZKR-",
      "execution_count": 3,
      "outputs": []
    },
    {
      "cell_type": "code",
      "metadata": {
        "id": "alive-reverse",
        "outputId": "93c68933-d354-4d60-ae5a-ca7559aebc44",
        "colab": {
          "base_uri": "https://localhost:8080/",
          "height": 52
        }
      },
      "source": [
        "with open(path, 'r') as myfile:\n",
        "    data=myfile.read()\n",
        "\n",
        "data = json.loads(data)\n",
        "\n",
        "\"\"\"\n",
        "possible_tests = ['Bilirubin',\n",
        " 'Blood',\n",
        " 'Glucose',\n",
        " 'Ketone',\n",
        " 'Leukocytes',\n",
        " 'Nitrite',\n",
        " 'Protein',\n",
        " 'Specific Gravity',\n",
        " 'Urobilinogen',\n",
        " 'pH']\n",
        " \"\"\""
      ],
      "id": "alive-reverse",
      "execution_count": 5,
      "outputs": [
        {
          "output_type": "execute_result",
          "data": {
            "application/vnd.google.colaboratory.intrinsic+json": {
              "type": "string"
            },
            "text/plain": [
              "\"\\npossible_tests = ['Bilirubin',\\n 'Blood',\\n 'Glucose',\\n 'Ketone',\\n 'Leukocytes',\\n 'Nitrite',\\n 'Protein',\\n 'Specific Gravity',\\n 'Urobilinogen',\\n 'pH']\\n \""
            ]
          },
          "metadata": {
            "tags": []
          },
          "execution_count": 5
        }
      ]
    },
    {
      "cell_type": "code",
      "metadata": {
        "id": "6iqPa5tdka5n",
        "outputId": "2d0a1ff0-32da-47c4-d2af-4d6a8ee919b6",
        "colab": {
          "base_uri": "https://localhost:8080/"
        }
      },
      "source": [
        "data"
      ],
      "id": "6iqPa5tdka5n",
      "execution_count": 6,
      "outputs": [
        {
          "output_type": "execute_result",
          "data": {
            "text/plain": [
              "{'Bilirubin': ['{\"test\": \"Bilirubin\", \"time\": 30, \"label\": \"Negative\", \"value\": \"\", \"measure unit\": \"\", \"r\": 246, \"g\": 231, \"b\": 164}',\n",
              "  '{\"test\": \"Bilirubin\", \"time\": 30, \"label\": \"Small\", \"value\": \"\", \"measure unit\": \"\", \"r\": 237, \"g\": 216, \"b\": 163}',\n",
              "  '{\"test\": \"Bilirubin\", \"time\": 30, \"label\": \"Moderate\", \"value\": \"\", \"measure unit\": \"\", \"r\": 200, \"g\": 195, \"b\": 155}',\n",
              "  '{\"test\": \"Bilirubin\", \"time\": 30, \"label\": \"Large\", \"value\": \"\", \"measure unit\": \"\", \"r\": 191, \"g\": 173, \"b\": 149}'],\n",
              " 'Blood': ['{\"test\": \"Blood\", \"time\": 60, \"label\": \"Negative\", \"value\": \"\", \"measure unit\": \"\", \"r\": 229, \"g\": 190, \"b\": 63}',\n",
              "  '{\"test\": \"Blood\", \"time\": 60, \"label\": \"Non Hemolized Trace\", \"value\": \"\", \"measure unit\": \"\", \"r\": null, \"g\": null, \"b\": null}',\n",
              "  '{\"test\": \"Blood\", \"time\": 60, \"label\": \"Non Hemolized Moderate\", \"value\": \"\", \"measure unit\": \"\", \"r\": null, \"g\": null, \"b\": null}',\n",
              "  '{\"test\": \"Blood\", \"time\": 60, \"label\": \"Hemolized Trace \", \"value\": \"\", \"measure unit\": \"\", \"r\": 193, \"g\": 191, \"b\": 68}',\n",
              "  '{\"test\": \"Blood\", \"time\": 60, \"label\": \"Small\", \"value\": \"\", \"measure unit\": \"\", \"r\": 146, \"g\": 171, \"b\": 69}',\n",
              "  '{\"test\": \"Blood\", \"time\": 60, \"label\": \"Moderate\", \"value\": \"\", \"measure unit\": \"\", \"r\": 87, \"g\": 136, \"b\": 70}',\n",
              "  '{\"test\": \"Blood\", \"time\": 60, \"label\": \"Large\", \"value\": \"\", \"measure unit\": \"\", \"r\": 57, \"g\": 83, \"b\": 58}'],\n",
              " 'Glucose': ['{\"test\": \"Glucose\", \"time\": 30, \"label\": \"Negative\", \"value\": \"\", \"measure unit\": \"\", \"r\": 144, \"g\": 208, \"b\": 182}',\n",
              "  '{\"test\": \"Glucose\", \"time\": 30, \"label\": \"\", \"value\": \"100\", \"measure unit\": \"\", \"r\": 140, \"g\": 196, \"b\": 135}',\n",
              "  '{\"test\": \"Glucose\", \"time\": 30, \"label\": \"\", \"value\": \"250\", \"measure unit\": \"\", \"r\": 123, \"g\": 176, \"b\": 86}',\n",
              "  '{\"test\": \"Glucose\", \"time\": 30, \"label\": \"\", \"value\": \"500\", \"measure unit\": \"\", \"r\": 140, \"g\": 144, \"b\": 67}',\n",
              "  '{\"test\": \"Glucose\", \"time\": 30, \"label\": \"\", \"value\": \"1000\", \"measure unit\": \"\", \"r\": 129, \"g\": 118, \"b\": 54}',\n",
              "  '{\"test\": \"Glucose\", \"time\": 30, \"label\": \"\", \"value\": \"2000\", \"measure unit\": \"\", \"r\": 119, \"g\": 85, \"b\": 58}'],\n",
              " 'Ketone': ['{\"test\": \"Ketone\", \"time\": 40, \"label\": \"Negative\", \"value\": \"\", \"measure unit\": \"\", \"r\": 215, \"g\": 182, \"b\": 151}',\n",
              "  '{\"test\": \"Ketone\", \"time\": 40, \"label\": \"Trace\", \"value\": \"5\", \"measure unit\": \"mg/dL\", \"r\": 232, \"g\": 175, \"b\": 156}',\n",
              "  '{\"test\": \"Ketone\", \"time\": 40, \"label\": \"Small\", \"value\": \"15\", \"measure unit\": \"mg/dL\", \"r\": 214, \"g\": 128, \"b\": 127}',\n",
              "  '{\"test\": \"Ketone\", \"time\": 40, \"label\": \"Moderate\", \"value\": \"40\", \"measure unit\": \"mg/dL\", \"r\": 178, \"g\": 97, \"b\": 103}',\n",
              "  '{\"test\": \"Ketone\", \"time\": 40, \"label\": \"Large\", \"value\": \"80\", \"measure unit\": \"mg/dL\", \"r\": 134, \"g\": 72, \"b\": 85}',\n",
              "  '{\"test\": \"Ketone\", \"time\": 40, \"label\": \"Large\", \"value\": \"160\", \"measure unit\": \"mg/dL\", \"r\": 97, \"g\": 54, \"b\": 64}'],\n",
              " 'Leukocytes': ['{\"test\": \"Leukocytes\", \"time\": 120, \"label\": \"Negative\", \"value\": \"\", \"measure unit\": \"\", \"r\": 229, \"g\": 233, \"b\": 182}',\n",
              "  '{\"test\": \"Leukocytes\", \"time\": 120, \"label\": \"Trace\", \"value\": \"\", \"measure unit\": \"\", \"r\": 216, \"g\": 212, \"b\": 183}',\n",
              "  '{\"test\": \"Leukocytes\", \"time\": 120, \"label\": \"Small\", \"value\": \"\", \"measure unit\": \"\", \"r\": 188, \"g\": 183, \"b\": 163}',\n",
              "  '{\"test\": \"Leukocytes\", \"time\": 120, \"label\": \"Moderate\", \"value\": \"\", \"measure unit\": \"\", \"r\": 143, \"g\": 117, \"b\": 144}',\n",
              "  '{\"test\": \"Leukocytes\", \"time\": 120, \"label\": \"Large\", \"value\": \"\", \"measure unit\": \"\", \"r\": 129, \"g\": 100, \"b\": 144}'],\n",
              " 'Nitrite': ['{\"test\": \"Nitrite\", \"time\": 60, \"label\": \"Negative\", \"value\": \"\", \"measure unit\": \"\", \"r\": 255, \"g\": 255, \"b\": 218}',\n",
              "  '{\"test\": \"Nitrite\", \"time\": 60, \"label\": \"Positive\", \"value\": \"\", \"measure unit\": \"\", \"r\": 255, \"g\": 239, \"b\": 206}',\n",
              "  '{\"test\": \"Nitrite\", \"time\": 60, \"label\": \"Positive\", \"value\": \"\", \"measure unit\": \"\", \"r\": 255, \"g\": 206, \"b\": 197}'],\n",
              " 'Protein': ['{\"test\": \"Protein\", \"time\": 60, \"label\": \"Negative\", \"value\": \"\", \"measure unit\": \"\", \"r\": 220, \"g\": 233, \"b\": 119}',\n",
              "  '{\"test\": \"Protein\", \"time\": 60, \"label\": \"Trace\", \"value\": \"\", \"measure unit\": \"\", \"r\": 186, \"g\": 111, \"b\": 109}',\n",
              "  '{\"test\": \"Protein\", \"time\": 60, \"label\": \"\", \"value\": \"30\", \"measure unit\": \"mg/dL\", \"r\": 165, \"g\": 193, \"b\": 119}',\n",
              "  '{\"test\": \"Protein\", \"time\": 60, \"label\": \"\", \"value\": \"100\", \"measure unit\": \"mg/dL\", \"r\": 144, \"g\": 185, \"b\": 145}',\n",
              "  '{\"test\": \"Protein\", \"time\": 60, \"label\": \"\", \"value\": \"300\", \"measure unit\": \"mg/dL\", \"r\": 112, \"g\": 175, \"b\": 154}',\n",
              "  '{\"test\": \"Protein\", \"time\": 60, \"label\": \"\", \"value\": \"2000\", \"measure unit\": \"mg/dL\", \"r\": 89, \"g\": 156, \"b\": 138}'],\n",
              " 'Specific Gravity': ['{\"test\": \"Specific Gravity\", \"time\": 45, \"label\": \"\", \"value\": \"1\", \"measure unit\": \"\", \"r\": 17, \"g\": 73, \"b\": 72}',\n",
              "  '{\"test\": \"Specific Gravity\", \"time\": 45, \"label\": \"\", \"value\": \" 1,005 \", \"measure unit\": \"\", \"r\": 38, \"g\": 113, \"b\": 72}',\n",
              "  '{\"test\": \"Specific Gravity\", \"time\": 45, \"label\": \"\", \"value\": \" 1,010 \", \"measure unit\": \"\", \"r\": 95, \"g\": 124, \"b\": 80}',\n",
              "  '{\"test\": \"Specific Gravity\", \"time\": 45, \"label\": \"\", \"value\": \" 1,015 \", \"measure unit\": \"\", \"r\": 119, \"g\": 136, \"b\": 58}',\n",
              "  '{\"test\": \"Specific Gravity\", \"time\": 45, \"label\": \"\", \"value\": \" 1,020 \", \"measure unit\": \"\", \"r\": 140, \"g\": 147, \"b\": 54}',\n",
              "  '{\"test\": \"Specific Gravity\", \"time\": 45, \"label\": \"\", \"value\": \" 1,025 \", \"measure unit\": \"\", \"r\": 139, \"g\": 143, \"b\": 48}',\n",
              "  '{\"test\": \"Specific Gravity\", \"time\": 45, \"label\": \"\", \"value\": \" 1,030 \", \"measure unit\": \"\", \"r\": 184, \"g\": 160, \"b\": 55}'],\n",
              " 'Urobilinogen': ['{\"test\": \"Urobilinogen\", \"time\": 60, \"label\": \"\", \"value\": \"0,2\", \"measure unit\": \"mg/dL\", \"r\": 254, \"g\": 202, \"b\": 152}',\n",
              "  '{\"test\": \"Urobilinogen\", \"time\": 60, \"label\": \"\", \"value\": \"1\", \"measure unit\": \"mg/dL\", \"r\": 250, \"g\": 168, \"b\": 146}',\n",
              "  '{\"test\": \"Urobilinogen\", \"time\": 60, \"label\": \"\", \"value\": \"2\", \"measure unit\": \"mg/dL\", \"r\": 235, \"g\": 146, \"b\": 142}',\n",
              "  '{\"test\": \"Urobilinogen\", \"time\": 60, \"label\": \"\", \"value\": \"4\", \"measure unit\": \"mg/dL\", \"r\": 240, \"g\": 138, \"b\": 134}',\n",
              "  '{\"test\": \"Urobilinogen\", \"time\": 60, \"label\": \"\", \"value\": \"8\", \"measure unit\": \"mg/dL\", \"r\": 232, \"g\": 107, \"b\": 137}'],\n",
              " 'pH': ['{\"test\": \"pH\", \"time\": 60, \"label\": \"\", \"value\": \"5\", \"measure unit\": \"\", \"r\": 241, \"g\": 129, \"b\": 74}',\n",
              "  '{\"test\": \"pH\", \"time\": 60, \"label\": \"\", \"value\": \"6\", \"measure unit\": \"\", \"r\": 236, \"g\": 164, \"b\": 82}',\n",
              "  '{\"test\": \"pH\", \"time\": 60, \"label\": \"\", \"value\": \"6,5\", \"measure unit\": \"\", \"r\": 220, \"g\": 192, \"b\": 83}',\n",
              "  '{\"test\": \"pH\", \"time\": 60, \"label\": \"\", \"value\": \"7\", \"measure unit\": \"\", \"r\": 181, \"g\": 193, \"b\": 91}',\n",
              "  '{\"test\": \"pH\", \"time\": 60, \"label\": \"\", \"value\": \"7,5\", \"measure unit\": \"\", \"r\": 129, \"g\": 165, \"b\": 77}',\n",
              "  '{\"test\": \"pH\", \"time\": 60, \"label\": \"\", \"value\": \"8\", \"measure unit\": \"\", \"r\": 76, \"g\": 155, \"b\": 107}',\n",
              "  '{\"test\": \"pH\", \"time\": 60, \"label\": \"\", \"value\": \"8,5\", \"measure unit\": \"\", \"r\": 28, \"g\": 122, \"b\": 124}']}"
            ]
          },
          "metadata": {
            "tags": []
          },
          "execution_count": 6
        }
      ]
    },
    {
      "cell_type": "code",
      "metadata": {
        "id": "twelve-judges"
      },
      "source": [
        "\"\"\"\n",
        "Class that has been created to cntain all possible values \n",
        "of the single chemical pads.\n",
        "Each object istance has this parameters:\n",
        "'test': Type of pads that we are currently analyzing \n",
        "'time': Time to wait for that type of test\n",
        "'label': If defined, the label of the pad\n",
        "'value': If defined, the numerical value of the pad\n",
        "'measure unit': If defined, the measure unit of the value \n",
        "'r': Red color component\n",
        "'g': Green color component\n",
        "'b': Blue color component\n",
        "\"\"\"\n",
        "class TestValue():\n",
        "    \n",
        "    def __init__(self,json_data):\n",
        "        for attr in json_data.keys():\n",
        "            setattr(self,attr.lower(),json_data[attr])\n",
        "            \n",
        "    def print(self):\n",
        "        for attr in vars(self).keys():\n",
        "            print(\"%s : %s\" %(attr, getattr(self,attr)))\n",
        "    \n",
        "    def encode(self):\n",
        "      return json.dumps(self.__dict__)\n",
        "\n",
        "    def distanceFromBGR(self, bgr):\n",
        "      b_dist = self.b - bgr[0]\n",
        "      g_dist = self.g - bgr[1]\n",
        "      r_dist = self.r - bgr[2]\n",
        "      dist = b_dist + g_dist + r_dist\n",
        "      return np.sqrt(dist)\n"
      ],
      "id": "twelve-judges",
      "execution_count": 19,
      "outputs": []
    },
    {
      "cell_type": "markdown",
      "metadata": {
        "id": "NtVaxS78x4dO"
      },
      "source": [
        "##Json Creation from valori_tester.json\n"
      ],
      "id": "NtVaxS78x4dO"
    },
    {
      "cell_type": "code",
      "metadata": {
        "id": "guilty-metro",
        "outputId": "37a72e01-d829-48fc-bc51-80840a50d595",
        "colab": {
          "base_uri": "https://localhost:8080/",
          "height": 0
        }
      },
      "source": [
        "possible_values = []\n",
        "for value in data:\n",
        "    possible_values.append(TestValue(value))\n",
        "\n",
        "test_dict = dict()\n",
        "\n",
        "for key in possible_tests:\n",
        "    test_dict[key] = [value.encode() for value in possible_values if value.test == key]\n",
        "\n",
        "json_test = json.dumps(test_dict)\n",
        "f = open(\"dict.json\",\"w\")\n",
        "f.write(json_test)\n",
        "f.close()"
      ],
      "id": "guilty-metro",
      "execution_count": 12,
      "outputs": [
        {
          "output_type": "error",
          "ename": "AttributeError",
          "evalue": "ignored",
          "traceback": [
            "\u001b[0;31m---------------------------------------------------------------------------\u001b[0m",
            "\u001b[0;31mAttributeError\u001b[0m                            Traceback (most recent call last)",
            "\u001b[0;32m<ipython-input-12-f51ad69d5e5b>\u001b[0m in \u001b[0;36m<module>\u001b[0;34m()\u001b[0m\n\u001b[1;32m      1\u001b[0m \u001b[0mpossible_values\u001b[0m \u001b[0;34m=\u001b[0m \u001b[0;34m[\u001b[0m\u001b[0;34m]\u001b[0m\u001b[0;34m\u001b[0m\u001b[0;34m\u001b[0m\u001b[0m\n\u001b[1;32m      2\u001b[0m \u001b[0;32mfor\u001b[0m \u001b[0mvalue\u001b[0m \u001b[0;32min\u001b[0m \u001b[0mdata\u001b[0m\u001b[0;34m:\u001b[0m\u001b[0;34m\u001b[0m\u001b[0;34m\u001b[0m\u001b[0m\n\u001b[0;32m----> 3\u001b[0;31m     \u001b[0mpossible_values\u001b[0m\u001b[0;34m.\u001b[0m\u001b[0mappend\u001b[0m\u001b[0;34m(\u001b[0m\u001b[0mTestValue\u001b[0m\u001b[0;34m(\u001b[0m\u001b[0mvalue\u001b[0m\u001b[0;34m)\u001b[0m\u001b[0;34m)\u001b[0m\u001b[0;34m\u001b[0m\u001b[0;34m\u001b[0m\u001b[0m\n\u001b[0m\u001b[1;32m      4\u001b[0m \u001b[0;34m\u001b[0m\u001b[0m\n\u001b[1;32m      5\u001b[0m \u001b[0mtest_dict\u001b[0m \u001b[0;34m=\u001b[0m \u001b[0mdict\u001b[0m\u001b[0;34m(\u001b[0m\u001b[0;34m)\u001b[0m\u001b[0;34m\u001b[0m\u001b[0;34m\u001b[0m\u001b[0m\n",
            "\u001b[0;32m<ipython-input-7-2a94dfc71ea9>\u001b[0m in \u001b[0;36m__init__\u001b[0;34m(self, json_data)\u001b[0m\n\u001b[1;32m     15\u001b[0m \u001b[0;34m\u001b[0m\u001b[0m\n\u001b[1;32m     16\u001b[0m     \u001b[0;32mdef\u001b[0m \u001b[0m__init__\u001b[0m\u001b[0;34m(\u001b[0m\u001b[0mself\u001b[0m\u001b[0;34m,\u001b[0m\u001b[0mjson_data\u001b[0m\u001b[0;34m)\u001b[0m\u001b[0;34m:\u001b[0m\u001b[0;34m\u001b[0m\u001b[0;34m\u001b[0m\u001b[0m\n\u001b[0;32m---> 17\u001b[0;31m         \u001b[0;32mfor\u001b[0m \u001b[0mattr\u001b[0m \u001b[0;32min\u001b[0m \u001b[0mjson_data\u001b[0m\u001b[0;34m.\u001b[0m\u001b[0mkeys\u001b[0m\u001b[0;34m(\u001b[0m\u001b[0;34m)\u001b[0m\u001b[0;34m:\u001b[0m\u001b[0;34m\u001b[0m\u001b[0;34m\u001b[0m\u001b[0m\n\u001b[0m\u001b[1;32m     18\u001b[0m             \u001b[0msetattr\u001b[0m\u001b[0;34m(\u001b[0m\u001b[0mself\u001b[0m\u001b[0;34m,\u001b[0m\u001b[0mattr\u001b[0m\u001b[0;34m.\u001b[0m\u001b[0mlower\u001b[0m\u001b[0;34m(\u001b[0m\u001b[0;34m)\u001b[0m\u001b[0;34m,\u001b[0m\u001b[0mjson_data\u001b[0m\u001b[0;34m[\u001b[0m\u001b[0mattr\u001b[0m\u001b[0;34m]\u001b[0m\u001b[0;34m)\u001b[0m\u001b[0;34m\u001b[0m\u001b[0;34m\u001b[0m\u001b[0m\n\u001b[1;32m     19\u001b[0m \u001b[0;34m\u001b[0m\u001b[0m\n",
            "\u001b[0;31mAttributeError\u001b[0m: 'str' object has no attribute 'keys'"
          ]
        }
      ]
    },
    {
      "cell_type": "markdown",
      "metadata": {
        "id": "I6DeBLJ72SOQ"
      },
      "source": [
        "##Dict reading from dict.json\n"
      ],
      "id": "I6DeBLJ72SOQ"
    },
    {
      "cell_type": "code",
      "metadata": {
        "id": "IR9s8N9IytJv"
      },
      "source": [
        "pads_data = dict()\n",
        "\n",
        "for key in data.keys():\n",
        "  pads_data.update({key : []})\n",
        "  possible_values = data[key] \n",
        "  \n",
        "  for value in possible_values:\n",
        "    pads_data[key].append(TestValue(json.loads(value)))"
      ],
      "id": "IR9s8N9IytJv",
      "execution_count": 20,
      "outputs": []
    },
    {
      "cell_type": "markdown",
      "metadata": {
        "id": "m7VF9DbOx-Fj"
      },
      "source": [
        "##Distance calculating"
      ],
      "id": "m7VF9DbOx-Fj"
    },
    {
      "cell_type": "code",
      "metadata": {
        "id": "YQNIbBPYysL-",
        "outputId": "635ddc7c-b872-441a-e30c-34e0b085950b",
        "colab": {
          "base_uri": "https://localhost:8080/"
        }
      },
      "source": [
        "\"\"\"\n",
        "Given the dict of the possible values and the dict of the values\n",
        "extracted from the photo, return for each pads the relative label calculated\n",
        "from the methodo TestValue.distanceFromRGB.\n",
        "Pads_extracted will be a dict that maps the label with the BGR extracted from the image\n",
        "inside the pads with that label\n",
        "\"\"\"\n",
        "def distanceCalculus(data_pads, pads_extracted):\n",
        "\n",
        "  results = dict()\n",
        "\n",
        "  for key in pads_extracted.keys():\n",
        "\n",
        "    possible_values = data_pads[key]\n",
        "    distances = list()\n",
        "    bgr = pads_extracted[key]\n",
        "\n",
        "    for value in possible_values:\n",
        "      distances.append(value.distanceFromRGB(self, bgr))\n",
        "\n",
        "    nearest = np.argmin(distances)\n",
        "    results.update({key: possible_values[nearest]})\n",
        "\n",
        "  return results\n",
        "\n",
        "\n",
        "pads_data['Bilirubin'][0].distanceFromBGR([0,0,0])"
      ],
      "id": "YQNIbBPYysL-",
      "execution_count": 21,
      "outputs": [
        {
          "output_type": "execute_result",
          "data": {
            "text/plain": [
              "25.317977802344327"
            ]
          },
          "metadata": {
            "tags": []
          },
          "execution_count": 21
        }
      ]
    }
  ]
}