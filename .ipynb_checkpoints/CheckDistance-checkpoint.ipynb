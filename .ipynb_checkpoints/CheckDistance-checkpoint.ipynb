{
  "nbformat": 4,
  "nbformat_minor": 5,
  "metadata": {
    "kernelspec": {
      "display_name": "Python [conda env:root] *",
      "language": "python",
      "name": "conda-root-py"
    },
    "language_info": {
      "codemirror_mode": {
        "name": "ipython",
        "version": 3
      },
      "file_extension": ".py",
      "mimetype": "text/x-python",
      "name": "python",
      "nbconvert_exporter": "python",
      "pygments_lexer": "ipython3",
      "version": "3.7.1"
    },
    "colab": {
      "name": "CheckDistance-checkpoint.ipynb",
      "provenance": []
    }
  },
  "cells": [
    {
      "cell_type": "code",
      "metadata": {
        "id": "critical-representation"
      },
      "source": [
        "import pandas as pd\n",
        "import json\n",
        "from pprint import pprint\n",
        "import numpy as np"
      ],
      "id": "critical-representation",
      "execution_count": 1,
      "outputs": []
    },
    {
      "cell_type": "code",
      "metadata": {
        "id": "0QiD5N8QZKR-"
      },
      "source": [
        "#path = \"C:/Users/User Pc/Desktop/Progetto OpenCV/All notebooks/Valori tester.json\"\n",
        "#path = \"/content/dict.json\""
      ],
      "id": "0QiD5N8QZKR-",
      "execution_count": null,
      "outputs": []
    },
    {
      "cell_type": "code",
      "metadata": {
        "id": "alive-reverse"
      },
      "source": [
        "with open(path, 'r') as myfile:\n",
        "    data=myfile.read()\n",
        "\n",
        "data = json.loads(data)\n",
        "\n",
        "\"\"\"\n",
        "possible_tests = ['Bilirubin',\n",
        " 'Blood',\n",
        " 'Glucose',\n",
        " 'Ketone',\n",
        " 'Leukocytes',\n",
        " 'Nitrite',\n",
        " 'Protein',\n",
        " 'Specific Gravity',\n",
        " 'Urobilinogen',\n",
        " 'pH']\n",
        " \"\"\""
      ],
      "id": "alive-reverse",
      "execution_count": null,
      "outputs": []
    },
    {
      "cell_type": "code",
      "metadata": {
        "id": "twelve-judges"
      },
      "source": [
        "\"\"\"\n",
        "Class that has been created to cntain all possible values \n",
        "of the single chemical pads.\n",
        "Each object istance has this parameters:\n",
        "'test': Type of pads that we are currently analyzing \n",
        "'time': Time to wait for that type of test\n",
        "'label': If defined, the label of the pad\n",
        "'value': If defined, the numerical value of the pad\n",
        "'measure unit': If defined, the measure unit of the value \n",
        "'r': Red color component\n",
        "'g': Green color component\n",
        "'b': Blue color component\n",
        "\"\"\"\n",
        "class TestValue():\n",
        "    \n",
        "    def __init__(self,json_data):\n",
        "        for attr in json_data.keys():\n",
        "            setattr(self,attr.lower(),json_data[attr])\n",
        "            \n",
        "    def print(self):\n",
        "        for attr in vars(self).keys():\n",
        "            print(\"%s : %s\" %(attr, getattr(self,attr)))\n",
        "    \n",
        "    def encode(self):\n",
        "      return json.dumps(self.__dict__)\n",
        "\n",
        "    def distanceFromBGR(self, bgr):\n",
        "      b_dist = self.b - bgr[0]\n",
        "      g_dist = self.g - bgr[1]\n",
        "      r_dist = self.r - bgr[2]\n",
        "      \n",
        "      return np.sqrt(dist)\n"
      ],
      "id": "twelve-judges",
      "execution_count": null,
      "outputs": []
    },
    {
      "cell_type": "code",
      "metadata": {
        "id": "Kd0dVgAg-Z1y",
        "colab": {
          "base_uri": "https://localhost:8080/",
          "height": 282
        },
        "outputId": "612cb050-6914-41dd-c1e3-75cada100a8a"
      },
      "source": [
        "obj_dict['Bilirubin'][0].distanceFromRGB([0,0,0])"
      ],
      "id": "Kd0dVgAg-Z1y",
      "execution_count": null,
      "outputs": [
        {
          "output_type": "error",
          "ename": "ValueError",
          "evalue": "ignored",
          "traceback": [
            "\u001b[0;31m---------------------------------------------------------------------------\u001b[0m",
            "\u001b[0;31mValueError\u001b[0m                                Traceback (most recent call last)",
            "\u001b[0;32m<ipython-input-82-a1f5b27defbb>\u001b[0m in \u001b[0;36m<module>\u001b[0;34m()\u001b[0m\n\u001b[0;32m----> 1\u001b[0;31m \u001b[0mobj_dict\u001b[0m\u001b[0;34m[\u001b[0m\u001b[0;34m'Bilirubin'\u001b[0m\u001b[0;34m]\u001b[0m\u001b[0;34m[\u001b[0m\u001b[0;36m0\u001b[0m\u001b[0;34m]\u001b[0m\u001b[0;34m.\u001b[0m\u001b[0mdistanceFromBox\u001b[0m\u001b[0;34m(\u001b[0m\u001b[0;34m[\u001b[0m\u001b[0;36m0\u001b[0m\u001b[0;34m,\u001b[0m\u001b[0;36m0\u001b[0m\u001b[0;34m,\u001b[0m\u001b[0;36m0\u001b[0m\u001b[0;34m]\u001b[0m\u001b[0;34m)\u001b[0m\u001b[0;34m\u001b[0m\u001b[0;34m\u001b[0m\u001b[0m\n\u001b[0m",
            "\u001b[0;32m<ipython-input-78-8a9426500c9b>\u001b[0m in \u001b[0;36mdistanceFromBox\u001b[0;34m(self, rgb)\u001b[0m\n\u001b[1;32m     26\u001b[0m \u001b[0;34m\u001b[0m\u001b[0m\n\u001b[1;32m     27\u001b[0m     \u001b[0;32mdef\u001b[0m \u001b[0mdistanceFromBox\u001b[0m\u001b[0;34m(\u001b[0m\u001b[0mself\u001b[0m\u001b[0;34m,\u001b[0m \u001b[0mrgb\u001b[0m\u001b[0;34m)\u001b[0m\u001b[0;34m:\u001b[0m\u001b[0;34m\u001b[0m\u001b[0;34m\u001b[0m\u001b[0m\n\u001b[0;32m---> 28\u001b[0;31m       \u001b[0mdist\u001b[0m \u001b[0;34m=\u001b[0m \u001b[0mnp\u001b[0m\u001b[0;34m.\u001b[0m\u001b[0mpower\u001b[0m\u001b[0;34m(\u001b[0m\u001b[0;34m(\u001b[0m\u001b[0mself\u001b[0m\u001b[0;34m.\u001b[0m\u001b[0mr\u001b[0m \u001b[0;34m-\u001b[0m \u001b[0mrgb\u001b[0m\u001b[0;34m[\u001b[0m\u001b[0;36m0\u001b[0m\u001b[0;34m]\u001b[0m\u001b[0;34m)\u001b[0m\u001b[0;34m)\u001b[0m\u001b[0;34m+\u001b[0m \u001b[0mnp\u001b[0m\u001b[0;34m.\u001b[0m\u001b[0mpower\u001b[0m\u001b[0;34m(\u001b[0m\u001b[0;34m(\u001b[0m\u001b[0mself\u001b[0m\u001b[0;34m.\u001b[0m\u001b[0mg\u001b[0m \u001b[0;34m-\u001b[0m \u001b[0mrgb\u001b[0m\u001b[0;34m[\u001b[0m\u001b[0;36m1\u001b[0m\u001b[0;34m]\u001b[0m\u001b[0;34m)\u001b[0m\u001b[0;34m)\u001b[0m \u001b[0;34m+\u001b[0m \u001b[0mnp\u001b[0m\u001b[0;34m.\u001b[0m\u001b[0mpower\u001b[0m\u001b[0;34m(\u001b[0m\u001b[0;34m(\u001b[0m\u001b[0mself\u001b[0m\u001b[0;34m.\u001b[0m\u001b[0mb\u001b[0m \u001b[0;34m-\u001b[0m \u001b[0mrgb\u001b[0m\u001b[0;34m[\u001b[0m\u001b[0;36m2\u001b[0m\u001b[0;34m]\u001b[0m\u001b[0;34m)\u001b[0m\u001b[0;34m)\u001b[0m\u001b[0;34m\u001b[0m\u001b[0;34m\u001b[0m\u001b[0m\n\u001b[0m\u001b[1;32m     29\u001b[0m \u001b[0;34m\u001b[0m\u001b[0m\n\u001b[1;32m     30\u001b[0m       \u001b[0;32mreturn\u001b[0m \u001b[0mnp\u001b[0m\u001b[0;34m.\u001b[0m\u001b[0msqrt\u001b[0m\u001b[0;34m(\u001b[0m\u001b[0mdist\u001b[0m\u001b[0;34m)\u001b[0m\u001b[0;34m\u001b[0m\u001b[0;34m\u001b[0m\u001b[0m\n",
            "\u001b[0;31mValueError\u001b[0m: invalid number of arguments"
          ]
        }
      ]
    },
    {
      "cell_type": "markdown",
      "metadata": {
        "id": "NtVaxS78x4dO"
      },
      "source": [
        "##Json Creation from valori_tester.json\n"
      ],
      "id": "NtVaxS78x4dO"
    },
    {
      "cell_type": "code",
      "metadata": {
        "id": "guilty-metro"
      },
      "source": [
        "possible_values = []\n",
        "for value in data:\n",
        "    possible_values.append(TestValue(value))\n",
        "\n",
        "test_dict = dict()\n",
        "\n",
        "for key in possible_tests:\n",
        "    test_dict[key] = [value.encode() for value in possible_values if value.test == key]\n",
        "\n",
        "json_test = json.dumps(test_dict)\n",
        "f = open(\"dict.json\",\"w\")\n",
        "f.write(json_test)\n",
        "f.close()"
      ],
      "id": "guilty-metro",
      "execution_count": null,
      "outputs": []
    },
    {
      "cell_type": "markdown",
      "metadata": {
        "id": "I6DeBLJ72SOQ"
      },
      "source": [
        "##Dict reading from dict.json\n"
      ],
      "id": "I6DeBLJ72SOQ"
    },
    {
      "cell_type": "code",
      "metadata": {
        "id": "IR9s8N9IytJv"
      },
      "source": [
        "pads_data = dict()\n",
        "\n",
        "for key in data.keys():\n",
        "  pads_data.update({key : []})\n",
        "  possible_values = data[key] \n",
        "  \n",
        "  for value in possible_values:\n",
        "    pads_data[key].append(TestValue(json.loads(value)))"
      ],
      "id": "IR9s8N9IytJv",
      "execution_count": null,
      "outputs": []
    },
    {
      "cell_type": "markdown",
      "metadata": {
        "id": "m7VF9DbOx-Fj"
      },
      "source": [
        "##Distance calculating"
      ],
      "id": "m7VF9DbOx-Fj"
    },
    {
      "cell_type": "code",
      "metadata": {
        "id": "YQNIbBPYysL-"
      },
      "source": [
        "\"\"\"\n",
        "Given the dict of the possible values and the dict of the values\n",
        "extracted from the photo, return for each pads the relative label calculated\n",
        "from the methodo TestValue.distanceFromRGB.\n",
        "Pads_extracted will be a dict that maps the label with the BGR extracted from the image\n",
        "inside the pads with that label\n",
        "\"\"\"\n",
        "def distanceCalculus(data_pads, pads_extracted):\n",
        "\n",
        "  results = dict()\n",
        "\n",
        "  for key in pads_extracted.keys():\n",
        "\n",
        "    possible_values = data_pads[key]\n",
        "    distances = list()\n",
        "    bgr = pads_extracted[key]\n",
        "\n",
        "    for value in possible_values:\n",
        "      distances.append(value.distanceFromRGB(self, bgr))\n",
        "\n",
        "    nearest = np.argmin(distances)\n",
        "    results.update({key: possible_values[nearest]})\n",
        "\n",
        "  return results\n"
      ],
      "id": "YQNIbBPYysL-",
      "execution_count": null,
      "outputs": []
    }
  ]
}