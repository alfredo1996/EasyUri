{
 "cells": [
  {
   "cell_type": "markdown",
   "id": "personal-monthly",
   "metadata": {},
   "source": [
    "TODO: \n",
    "    \n",
    "1) Check the native docs(Android Studio, Switft iOS) to see how we can control the camera parameters.\n",
    "\n",
    "2) Check how we can modify the camera's flash frequency.\n",
    "\n",
    "3) Need to understand what framework we will use to create EasyUri, possible choices are: Xamarin, Flutter, Kivi if we want cross platform solutions or Android Studio\\XCode if we want native solutions.\n",
    "\n",
    "4) Need to study how we can improve the analysis modifying the camera's characteristics. (ISO, Saturation, ecc...)\n",
    "\n",
    "5) Need to study how we can use the camera flash to improve the analysis, like AdobeScan but less powerful.\n",
    "\n",
    "6) Can we fit the histogram of the references from the photo to the real histogram (taken from SVG image), and then use that transformation matrix on all the image? the idea seems very simple but we need to try it. https://www.pyimagesearch.com/2021/02/08/histogram-matching-with-opencv-scikit-image-and-python/ https://stackoverflow.com/questions/37388671/color-histogram-for-multiple-images-in-a-directory-using-cv2-calchist-in-python/37397166\n"
   ]
  },
  {
   "cell_type": "markdown",
   "id": "small-exclusion",
   "metadata": {},
   "source": [
    "Something useful for later\n",
    "\n",
    "1) https://github.com/AdityaMulgundkar/flutter_opencv OpenCv porting on Flutter\n",
    "\n",
    "2) https://www.browserstack.com/app-live Service that virtualizes all types of mobile devices\n",
    "\n",
    "3) http://loomatix.com/home/about#aboutus potremmo contattarli per chiedere delle cose sulla color correction\n",
    "\n",
    "4) https://stacks.stanford.edu/file/druid:my512gb2187/Cohen_A_New_Color_Balancing_Method.pdf To read\n",
    "\n",
    "5) https://stackoverflow.com/questions/27738346/how-to-change-brightness-contrast-whitebalance-exposure-focus-and-sharpness for Swift\n"
   ]
  }
 ],
 "metadata": {
  "kernelspec": {
   "display_name": "Python [conda env:root] *",
   "language": "python",
   "name": "conda-root-py"
  },
  "language_info": {
   "codemirror_mode": {
    "name": "ipython",
    "version": 3
   },
   "file_extension": ".py",
   "mimetype": "text/x-python",
   "name": "python",
   "nbconvert_exporter": "python",
   "pygments_lexer": "ipython3",
   "version": "3.7.1"
  }
 },
 "nbformat": 4,
 "nbformat_minor": 5
}
